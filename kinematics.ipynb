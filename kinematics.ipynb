{
 "cells": [
  {
   "cell_type": "code",
   "execution_count": 4,
   "metadata": {},
   "outputs": [],
   "source": [
    "## 2 wheel robot research paper"
   ]
  },
  {
   "cell_type": "markdown",
   "metadata": {},
   "source": [
    "<center> rated specs of hub motor/wheel from ninebot scooters </center>\n",
    "\n",
    "| Rated Voltage | Rated Torque | Rated speed | Rated Output | Rated Nominal power | Max. Power |\n",
    "| :- | -: | :-: | :-: | :-: | :-: |\n",
    "| 100-240V~ AC | 0Nm | 781.5rpm 81.84rad/s | 71W | 300W | 800W |"
   ]
  },
  {
   "cell_type": "markdown",
   "metadata": {},
   "source": [
    "#### wheel encoder math\n",
    "\n",
    "Our wheel diameter is 8in (20.32cm) which we can use to determine our circumference of the wheel. The circumference of our wheel given C=pi*d (d = 20.32cm) which comes out to be C=68.34cm. In order to determine how many ticks per degree (tpd) we need to give us an encoder resoultion of 360 degrees, we divide tpd=360/C (C=68.34cm) which results in a tpd of 5.26 degrees per cm."
   ]
  },
  {
   "cell_type": "code",
   "execution_count": null,
   "metadata": {},
   "outputs": [],
   "source": []
  }
 ],
 "metadata": {
  "kernelspec": {
   "display_name": "Python 3",
   "language": "python",
   "name": "python3"
  },
  "language_info": {
   "codemirror_mode": {
    "name": "ipython",
    "version": 3
   },
   "file_extension": ".py",
   "mimetype": "text/x-python",
   "name": "python",
   "nbconvert_exporter": "python",
   "pygments_lexer": "ipython3",
   "version": "3.8.5"
  }
 },
 "nbformat": 4,
 "nbformat_minor": 4
}
